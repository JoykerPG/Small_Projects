{
 "cells": [
  {
   "cell_type": "code",
   "execution_count": null,
   "metadata": {},
   "outputs": [],
   "source": []
  },
  {
   "cell_type": "markdown",
   "metadata": {},
   "source": [
    "# Automação Web com Python\n",
    "\n",
    "## Python + Selenium\n",
    "\n",
    "* 2 requisitos:\n",
    "    * Instalar o Selenium\n",
    "    * Baixar o webdriver (chromedriver ou geckodriver)"
   ]
  },
  {
   "cell_type": "markdown",
   "metadata": {},
   "source": []
  }
 ],
 "metadata": {
  "kernelspec": {
   "display_name": "Python 3.10.5 64-bit (windows store)",
   "language": "python",
   "name": "python3"
  },
  "language_info": {
   "name": "python",
   "version": "3.10.6"
  },
  "orig_nbformat": 4,
  "vscode": {
   "interpreter": {
    "hash": "662dfd01ebd21bd766e68ce0378b0a440eb76f7e8088b87ec0b5e57ce66a6e0a"
   }
  }
 },
 "nbformat": 4,
 "nbformat_minor": 2
}
