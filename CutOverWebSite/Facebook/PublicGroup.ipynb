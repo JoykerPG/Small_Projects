{
 "cells": [
  {
   "cell_type": "markdown",
   "metadata": {},
   "source": [
    "# Public in Groups on Facebook"
   ]
  },
  {
   "cell_type": "code",
   "execution_count": 41,
   "metadata": {},
   "outputs": [],
   "source": [
    "# Open Facebook on Chrome controlled \n",
    "# on terminal pip install selenium\n",
    "# on terminal pip install webdriver_manager\n",
    "\n",
    "import timer\n",
    "from selenium import webdriver\n",
    "from webdriver_manager.chrome import ChromeDriverManager\n",
    "from selenium.webdriver.chrome.service import Service\n",
    "\n",
    "\n",
    "servico = Service(ChromeDriverManager().install())\n",
    "\n",
    "navegador = webdriver.Chrome(service=servico)\n",
    "\n",
    "navegador.get(\"https://facebook.com\")"
   ]
  },
  {
   "cell_type": "code",
   "execution_count": 36,
   "metadata": {},
   "outputs": [],
   "source": [
    "# Login Facebook\n",
    "# handle e-mail, password and code"
   ]
  },
  {
   "cell_type": "markdown",
   "metadata": {},
   "source": []
  },
  {
   "cell_type": "code",
   "execution_count": 47,
   "metadata": {},
   "outputs": [
    {
     "ename": "NameError",
     "evalue": "name 'timeout' is not defined",
     "output_type": "error",
     "traceback": [
      "\u001b[1;31m---------------------------------------------------------------------------\u001b[0m",
      "\u001b[1;31mNameError\u001b[0m                                 Traceback (most recent call last)",
      "\u001b[1;32mg:\\Program Files (x86)\\Git_SCM\\JPG_Rep\\Small_Projects\\CutOverWebSite\\Facebook\\PublicGroup.ipynb Cell 5\u001b[0m in \u001b[0;36m<cell line: 6>\u001b[1;34m()\u001b[0m\n\u001b[0;32m      <a href='vscode-notebook-cell:/g%3A/Program%20Files%20%28x86%29/Git_SCM/JPG_Rep/Small_Projects/CutOverWebSite/Facebook/PublicGroup.ipynb#W3sZmlsZQ%3D%3D?line=2'>3</a>\u001b[0m message \u001b[39m=\u001b[39m \u001b[39m\"\u001b[39m\u001b[39mtestando\u001b[39m\u001b[39m\"\u001b[39m\n\u001b[0;32m      <a href='vscode-notebook-cell:/g%3A/Program%20Files%20%28x86%29/Git_SCM/JPG_Rep/Small_Projects/CutOverWebSite/Facebook/PublicGroup.ipynb#W3sZmlsZQ%3D%3D?line=4'>5</a>\u001b[0m navegador\u001b[39m.\u001b[39mfind_element(\u001b[39m'\u001b[39m\u001b[39mxpath\u001b[39m\u001b[39m'\u001b[39m, \u001b[39m'\u001b[39m\u001b[39m//*[@id=\u001b[39m\u001b[39m\"\u001b[39m\u001b[39mmount_0_0_jN\u001b[39m\u001b[39m\"\u001b[39m\u001b[39m]/div[1]/div[1]/div/div[4]/div/div/div[1]/div/div[2]/div/div/div/div/div[1]/div[2]/div/div/div[1]/div/div/div/label/input\u001b[39m\u001b[39m'\u001b[39m)\u001b[39m.\u001b[39msend_keys(group)\n\u001b[1;32m----> <a href='vscode-notebook-cell:/g%3A/Program%20Files%20%28x86%29/Git_SCM/JPG_Rep/Small_Projects/CutOverWebSite/Facebook/PublicGroup.ipynb#W3sZmlsZQ%3D%3D?line=5'>6</a>\u001b[0m timeout(\u001b[39m0.5\u001b[39m)\n\u001b[0;32m      <a href='vscode-notebook-cell:/g%3A/Program%20Files%20%28x86%29/Git_SCM/JPG_Rep/Small_Projects/CutOverWebSite/Facebook/PublicGroup.ipynb#W3sZmlsZQ%3D%3D?line=6'>7</a>\u001b[0m navegador\u001b[39m.\u001b[39mfind_element(\u001b[39m'\u001b[39m\u001b[39mxpath\u001b[39m\u001b[39m'\u001b[39m, \u001b[39m'\u001b[39m\u001b[39m//*[@id=\u001b[39m\u001b[39m\"\u001b[39m\u001b[39mmount_0_0_jn\u001b[39m\u001b[39m\"\u001b[39m\u001b[39m]/div[1]/div[1]/div/div[4]/div/div/div[1]/div/div[2]/div/div/div/div/div[1]/div[2]/div/div/div[2]/div/div[1]/div/div/div[2]/div/div[1]/div/div[1]/div[2]/div[1]/div/div/div[1]/span\u001b[39m\u001b[39m'\u001b[39m)\u001b[39m.\u001b[39mclick()\n\u001b[0;32m      <a href='vscode-notebook-cell:/g%3A/Program%20Files%20%28x86%29/Git_SCM/JPG_Rep/Small_Projects/CutOverWebSite/Facebook/PublicGroup.ipynb#W3sZmlsZQ%3D%3D?line=7'>8</a>\u001b[0m navegador\u001b[39m.\u001b[39mfind_element(\u001b[39m'\u001b[39m\u001b[39mxpath\u001b[39m\u001b[39m'\u001b[39m, \u001b[39m'\u001b[39m\u001b[39m//*[@id=\u001b[39m\u001b[39m\"\u001b[39m\u001b[39mmount_0_0_jn\u001b[39m\u001b[39m\"\u001b[39m\u001b[39m]/div[1]/div[1]/div/div[4]/div/div/div[1]/div/div[2]/div/div/div/div/div[2]/form/div/div[1]/div/div/div[1]/div/div[2]/div[1]/div[1]/div[1]/div/div/div/div/div[2]/div/div/div/div\u001b[39m\u001b[39m'\u001b[39m)\u001b[39m.\u001b[39msend_keys(message)\n",
      "\u001b[1;31mNameError\u001b[0m: name 'timeout' is not defined"
     ]
    }
   ],
   "source": [
    "# Share to a group\n",
    "group = \"Fiocruz\"\n",
    "message = \"testando\"\n",
    "\n",
    "navegador.find_element('xpath', '//*[@id=\"mount_0_0_jN\"]/div[1]/div[1]/div/div[4]/div/div/div[1]/div/div[2]/div/div/div/div/div[1]/div[2]/div/div/div[1]/div/div/div/label/input').send_keys(group)\n",
    "#################################\n",
    "navegador.find_element('xpath', '//*[@id=\"mount_0_0_jn\"]/div[1]/div[1]/div/div[4]/div/div/div[1]/div/div[2]/div/div/div/div/div[1]/div[2]/div/div/div[2]/div/div[1]/div/div/div[2]/div/div[1]/div/div[1]/div[2]/div[1]/div/div/div[1]/span').click()\n",
    "navegador.find_element('xpath', '//*[@id=\"mount_0_0_jn\"]/div[1]/div[1]/div/div[4]/div/div/div[1]/div/div[2]/div/div/div/div/div[2]/form/div/div[1]/div/div/div[1]/div/div[2]/div[1]/div[1]/div[1]/div/div/div/div/div[2]/div/div/div/div').send_keys(message)\n",
    "navegador.find_element('xpath', '//*[@id=\"mount_0_0_jn\"]/div[1]/div[1]/div/div[4]/div/div/div[1]/div/div[2]/div/div/div/div/div[2]/form/div/div[1]/div/div/div[1]/div/div[3]/div[2]/div/div/div/div[1]/div/span/span').click()\n",
    "#//*[@id=\"mount_0_0_BN\"]/div[1]/div[1]/div/div[4]/div/div/div[1]/div/div[2]/div/div/div/div/div[1]/div[2]/div/div/div[2]/div/div[1]/div/div/div[2]/div/div[2]/div/div[1]/div[1]/div/a/div/svg/g/rect\n",
    "#//*[@id=\"mount_0_0_BN\"]/div[1]/div[1]/div/div[4]/div/div/div[1]/div/div[2]/div/div/div/div/div[1]/div[2]/div/div/div[2]/div/div[1]/div/div/div[2]/div/div[3]/div/div[1]/div[1]/div/a/div/svg/g/rect\n"
   ]
  }
 ],
 "metadata": {
  "kernelspec": {
   "display_name": "Python 3.10.6 64-bit (microsoft store)",
   "language": "python",
   "name": "python3"
  },
  "language_info": {
   "codemirror_mode": {
    "name": "ipython",
    "version": 3
   },
   "file_extension": ".py",
   "mimetype": "text/x-python",
   "name": "python",
   "nbconvert_exporter": "python",
   "pygments_lexer": "ipython3",
   "version": "3.10.6"
  },
  "orig_nbformat": 4,
  "vscode": {
   "interpreter": {
    "hash": "662dfd01ebd21bd766e68ce0378b0a440eb76f7e8088b87ec0b5e57ce66a6e0a"
   }
  }
 },
 "nbformat": 4,
 "nbformat_minor": 2
}
