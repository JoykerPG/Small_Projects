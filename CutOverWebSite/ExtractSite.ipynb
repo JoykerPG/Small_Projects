{
 "cells": [
  {
   "cell_type": "markdown",
   "metadata": {},
   "source": [
    "# Cut viewing area from website to paste on text editor, and convert to pdf file\n",
    "\n",
    "1. Install and import the needed packages.\n",
    "1. Welcome - Greetings - Menu.\n",
    "2. Identify all positions (button, polygon, etc.)\n",
    "2. Ask the user for the website selected.\n",
    "1. Automate the cut especific area from the needed website content.\n",
    "1. Past the cuted content on the new file on text editor.\n",
    "1. Include the source in each footer page.\n",
    "1. Transform file format from text editor to pdf.\n",
    "\n",
    "### Initially it is organizaed in three branchs: 1) import and install packages; 2) Functions; and 3) Main Program."
   ]
  },
  {
   "cell_type": "code",
   "execution_count": 36,
   "metadata": {},
   "outputs": [],
   "source": [
    "# 1. Install and import the needed packages:\n",
    "    #1.1 types pip install autogui on Terminal area\n",
    "import pyautogui\n",
    "import time\n",
    "import random\n"
   ]
  },
  {
   "cell_type": "code",
   "execution_count": 66,
   "metadata": {},
   "outputs": [],
   "source": [
    "# Functions\n",
    "# 2. Welcome - Random Greetings\n",
    "\n",
    "def greeting():\n",
    "    greet1 = (\"\\nSeja Bem-Vinda(o) ao Programa CutOverWebSite!\")\n",
    "    greet2 = (\"\\nEspero que esteja Bem e o Programa CutOverWebSite seja útil!\")\n",
    "    greet3 = (\"\\nQue bom que você está aqui. Esperamos que tenha uma ótima vivência com o Programa CutOverWebSite!\")\n",
    "    greet4 = (\"\\nÓtimo que você nos escolheu! Vamos logo reslver este problema com o CutOverWebSit!\")\n",
    "    greet5 = (\"\\nVamos logo resolver este problema com o CutOverWebSite!\")\n",
    "    \n",
    "    x = random.randint(1 , 5)\n",
    "    if x == 1:\n",
    "        print(greet1)\n",
    "    if x == 2:\n",
    "        print(greet2)\n",
    "    if x == 3:\n",
    "        print(greet3)\n",
    "    if x == 4:\n",
    "        print(greet4)\n",
    "    if x == 5:\n",
    "        print(greet5)\n",
    "\n",
    "    \n",
    "def menu():\n",
    "    print(\"\\n=== MENU ===\\n\")\n",
    "    print(\"Digite qual navegador gostaria de utilizar:\" , \"[1] Chrome\" , \"[2] Firefox\" , \"[3] Edge\" , \"[4] Exit\", sep=\"\\n\")"
   ]
  },
  {
   "cell_type": "code",
   "execution_count": 84,
   "metadata": {},
   "outputs": [
    {
     "name": "stdout",
     "output_type": "stream",
     "text": [
      "\n",
      "Seja Bem-Vinda(o) ao Programa CutWebSite!\n",
      "\n",
      "=== MENU ===\n",
      "\n",
      "Digite qual navegador gostaria de utilizar:\n",
      "[1] Chrome\n",
      "[2] Firefox\n",
      "[3] Edge\n",
      "[4] Exit\n"
     ]
    }
   ],
   "source": [
    "# Main Program\n",
    "greeting()\n",
    "menu()\n",
    "\n"
   ]
  },
  {
   "cell_type": "code",
   "execution_count": 20,
   "metadata": {},
   "outputs": [
    {
     "name": "stdout",
     "output_type": "stream",
     "text": [
      "Point(x=319, y=637)\n"
     ]
    }
   ],
   "source": [
    "# Doubt and problem\n",
    "\n",
    "# 2. Ask the user for the website selected and how many pages has the document:\n",
    "#Website = input(\"Copie e cole aqui o endereço completo do wesite onde está o material a ser copiado: \")\n",
    "#print (\"Selecione a isualização do Verifique se a visualização do website está Informe o número de páginas que o documento tem: \")\n",
    "\n",
    "# 3. Open the browser \n",
    "# 3. Automate the cut especific area from the needed website content.\n",
    "# 3.1 Finding your mouse's current position on the screen\n",
    "# 3.2 \n",
    "# Give some time before python runs this file\n"
   ]
  }
 ],
 "metadata": {
  "interpreter": {
   "hash": "d9a4ba7a39ad5692da286452aea182a2f639774b342ad6371c4f013f8b98072d"
  },
  "kernelspec": {
   "display_name": "Python 3.10.4 64-bit",
   "language": "python",
   "name": "python3"
  },
  "language_info": {
   "codemirror_mode": {
    "name": "ipython",
    "version": 3
   },
   "file_extension": ".py",
   "mimetype": "text/x-python",
   "name": "python",
   "nbconvert_exporter": "python",
   "pygments_lexer": "ipython3",
   "version": "3.10.4"
  },
  "orig_nbformat": 4
 },
 "nbformat": 4,
 "nbformat_minor": 2
}
